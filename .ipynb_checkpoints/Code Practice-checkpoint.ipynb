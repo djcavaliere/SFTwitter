{
 "cells": [
  {
   "cell_type": "code",
   "execution_count": 1,
   "id": "97ec8289-3a51-428d-ab4e-a55ed9823e35",
   "metadata": {},
   "outputs": [],
   "source": [
    "import pandas as pd\n",
    "import numpy as np"
   ]
  },
  {
   "cell_type": "code",
   "execution_count": 3,
   "id": "6711b7f3-956b-46c1-a6e9-fb9bfe426ef5",
   "metadata": {},
   "outputs": [],
   "source": [
    "#calculate square root\n",
    "\n",
    "def squrt(num):\n",
    "    return num**0.5"
   ]
  },
  {
   "cell_type": "code",
   "execution_count": 18,
   "id": "c576b9f7-0a19-4ef7-ab60-68f2fff80f83",
   "metadata": {},
   "outputs": [],
   "source": [
    "num = 15\n",
    "squares = []\n",
    "for i in range (1, num):\n",
    "    if i * i == num:\n",
    "        print(i)\n",
    "    else:\n",
    "        squares.append(abs(num - (i * i)))"
   ]
  },
  {
   "cell_type": "code",
   "execution_count": 21,
   "id": "66aad648-124b-42c9-bde8-74d550e53d34",
   "metadata": {},
   "outputs": [
    {
     "data": {
      "text/plain": [
       "1"
      ]
     },
     "execution_count": 21,
     "metadata": {},
     "output_type": "execute_result"
    }
   ],
   "source": [
    "min(squares)"
   ]
  },
  {
   "cell_type": "code",
   "execution_count": 22,
   "id": "f55310b7-ecd5-458f-aeb8-2b61333673e1",
   "metadata": {},
   "outputs": [],
   "source": [
    "a = 1\n",
    "b = 2"
   ]
  },
  {
   "cell_type": "code",
   "execution_count": 25,
   "id": "870e9ebe-f2ec-4e5c-b52f-c58b7eb28019",
   "metadata": {},
   "outputs": [],
   "source": [
    "def climbStairs(n):\n",
    "        \n",
    "    if n == 1 or n == 2:\n",
    "        return n\n",
    "    \n",
    "    prevPrev = 1\n",
    "    prev = 2\n",
    "    current = 0\n",
    "    \n",
    "    for step in range(3, n+1):\n",
    "        # Calculate Number of Ways to Reach Current Step\n",
    "        current = prevPrev + prev\n",
    "        # Update Pointers for Next Step\n",
    "        prevPrev = prev\n",
    "        prev = current\n",
    "    return current"
   ]
  },
  {
   "cell_type": "code",
   "execution_count": 30,
   "id": "2f81a1d5-635f-4909-a053-fa2d0cc8d8fc",
   "metadata": {},
   "outputs": [
    {
     "data": {
      "text/plain": [
       "5"
      ]
     },
     "execution_count": 30,
     "metadata": {},
     "output_type": "execute_result"
    }
   ],
   "source": [
    "climbStairs(4)"
   ]
  },
  {
   "cell_type": "code",
   "execution_count": 31,
   "id": "5cb3d77c-1b6a-4391-bebd-1a90ac55e357",
   "metadata": {},
   "outputs": [
    {
     "data": {
      "text/plain": [
       "3"
      ]
     },
     "execution_count": 31,
     "metadata": {},
     "output_type": "execute_result"
    }
   ],
   "source": [
    "climbStairs(3)"
   ]
  },
  {
   "cell_type": "code",
   "execution_count": 32,
   "id": "054d54f3-a03e-4417-9d21-3ce63e4a504b",
   "metadata": {},
   "outputs": [],
   "source": [
    "prices[]\n",
    "prices = [7,1,5,3,6,4]\n",
    "Output: 5"
   ]
  },
  {
   "cell_type": "code",
   "execution_count": null,
   "id": "fe123e5f-7b5b-46a2-a819-5e609853258b",
   "metadata": {},
   "outputs": [],
   "source": [
    "for i in prices:\n",
    "    if i - "
   ]
  },
  {
   "cell_type": "code",
   "execution_count": 45,
   "id": "728fe503-2164-4712-ab19-0f0b9126d630",
   "metadata": {},
   "outputs": [],
   "source": [
    "nums = [3,2,3]"
   ]
  },
  {
   "cell_type": "code",
   "execution_count": 46,
   "id": "aefac26e-a30d-4e5e-9302-a9bd47fe4786",
   "metadata": {},
   "outputs": [
    {
     "data": {
      "text/plain": [
       "{3}"
      ]
     },
     "execution_count": 46,
     "metadata": {},
     "output_type": "execute_result"
    }
   ],
   "source": [
    "dic = {}\n",
    "for x in nums:\n",
    "    dic[x] = len([y for y in nums if y == x])\n",
    "\n",
    "{key for key, value in dic.items() if value == max(dic.values())}"
   ]
  },
  {
   "cell_type": "code",
   "execution_count": 33,
   "id": "7aa9e64b-8d00-437d-aba9-94a3b1ed197a",
   "metadata": {},
   "outputs": [
    {
     "ename": "AttributeError",
     "evalue": "'dict' object has no attribute 'index'",
     "output_type": "error",
     "traceback": [
      "\u001b[1;31m---------------------------------------------------------------------------\u001b[0m",
      "\u001b[1;31mAttributeError\u001b[0m                            Traceback (most recent call last)",
      "Input \u001b[1;32mIn [33]\u001b[0m, in \u001b[0;36m<cell line: 1>\u001b[1;34m()\u001b[0m\n\u001b[1;32m----> 1\u001b[0m \u001b[43mdic\u001b[49m\u001b[38;5;241;43m.\u001b[39;49m\u001b[43mindex\u001b[49m(\u001b[38;5;241m2\u001b[39m)\n",
      "\u001b[1;31mAttributeError\u001b[0m: 'dict' object has no attribute 'index'"
     ]
    }
   ],
   "source": [
    "dic.index(2)"
   ]
  },
  {
   "cell_type": "code",
   "execution_count": 34,
   "id": "8baf1e30-bc7e-47c2-8153-dead2980cc85",
   "metadata": {},
   "outputs": [
    {
     "data": {
      "text/plain": [
       "[6]"
      ]
     },
     "execution_count": 34,
     "metadata": {},
     "output_type": "execute_result"
    }
   ],
   "source": [
    "[key for key, value in dic.items() if value == max(dic.values())]"
   ]
  },
  {
   "cell_type": "code",
   "execution_count": null,
   "id": "6957bba9-1e34-4726-a184-b045ac764ace",
   "metadata": {},
   "outputs": [],
   "source": [
    "max()"
   ]
  },
  {
   "cell_type": "code",
   "execution_count": 43,
   "id": "4d95fcde-e1d8-447b-87b1-eb0999d6a7da",
   "metadata": {},
   "outputs": [
    {
     "data": {
      "text/plain": [
       "{6: 1, 5: 2}"
      ]
     },
     "execution_count": 43,
     "metadata": {},
     "output_type": "execute_result"
    }
   ],
   "source": [
    "dic"
   ]
  },
  {
   "cell_type": "code",
   "execution_count": null,
   "id": "1c86ced5-60c5-4060-9f61-41d9f5604e88",
   "metadata": {},
   "outputs": [],
   "source": []
  }
 ],
 "metadata": {
  "kernelspec": {
   "display_name": "Python 3 (ipykernel)",
   "language": "python",
   "name": "python3"
  },
  "language_info": {
   "codemirror_mode": {
    "name": "ipython",
    "version": 3
   },
   "file_extension": ".py",
   "mimetype": "text/x-python",
   "name": "python",
   "nbconvert_exporter": "python",
   "pygments_lexer": "ipython3",
   "version": "3.9.12"
  }
 },
 "nbformat": 4,
 "nbformat_minor": 5
}

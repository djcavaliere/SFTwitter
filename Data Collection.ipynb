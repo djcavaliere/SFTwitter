{
 "cells": [
  {
   "cell_type": "markdown",
   "id": "7a706cdf-1e11-4574-960c-5e21d9d5c4da",
   "metadata": {},
   "source": [
    "#### San Francisco Tweet Analysis\n",
    "\n",
    "In this notebook I will be collecting data from the Twitter API. I created an app through the Twitter developer portal which allows me to make requests to Twitter's API endpoints including a generic search based on keywords. Here I pulled in 42k tweets from 11/22/22 - 11/28/22 related to San Francisco. As someone who lives in San Francisco I am curious to identify which twitter accounts I should follow to stay aligned with whats happening in the city as well as just generaly identifying what people think of San Francisco.\n",
    "\n",
    "**Limitations**: Unfortunately twitter only allows access to the full tweet archives for those with academic research access and so here I am limited to pulling 2M tweets per month from the most recent week's tweets. "
   ]
  },
  {
   "cell_type": "code",
   "execution_count": 1,
   "id": "47a2a6e7-7bd7-40fa-abd2-297489fa053c",
   "metadata": {},
   "outputs": [],
   "source": [
    "# import libraries\n",
    "# For sending GET requests from the API\n",
    "import requests\n",
    "# For saving access tokens and for file management when creating and adding to the dataset\n",
    "import os\n",
    "# For dealing with json responses we receive from the API\n",
    "import json\n",
    "\n",
    "import pandas as pd\n",
    "import csv\n",
    "# For parsing the dates received from twitter in readable formats\n",
    "import datetime\n",
    "import dateutil.parser\n",
    "import unicodedata\n",
    "#To add wait time between requests\n",
    "import time"
   ]
  },
  {
   "cell_type": "code",
   "execution_count": 2,
   "id": "5345c500-ef17-4dd7-8df2-366cb44a38c4",
   "metadata": {},
   "outputs": [],
   "source": [
    "import tweepy\n",
    "import config\n",
    "\n",
    "client = tweepy.Client(bearer_token= config.bearer)"
   ]
  },
  {
   "cell_type": "code",
   "execution_count": 3,
   "id": "80a7a7ba-0418-4aca-9cd6-6089c0e6a362",
   "metadata": {},
   "outputs": [],
   "source": [
    "today = datetime.datetime.now(datetime.timezone.utc)\n",
    "start= today - datetime.timedelta(days=6)"
   ]
  },
  {
   "cell_type": "code",
   "execution_count": 5,
   "id": "756a138b-dfdc-4177-82ba-d1c3db80221a",
   "metadata": {},
   "outputs": [],
   "source": [
    "#code leveraged from Professor Jeremy Foote of the Community Data Science Collective\n",
    "tweet_list = []\n",
    "for response in tweepy.Paginator(client.search_recent_tweets,\n",
    "                                 query= 'SanFrancisco OR San Francisco -is:retweet lang:en', \n",
    "                                 max_results=100, \n",
    "                                 tweet_fields = ['created_at','public_metrics', 'author_id'], \n",
    "                                 user_fields = ['username', 'public_metrics', 'location'],\n",
    "                                 start_time = str(start.isoformat()),\n",
    "                                 end_time = str(today.isoformat()),\n",
    "                                 expansions = ['author_id']):\n",
    "    time.sleep(1)\n",
    "    tweet_list.append(response)"
   ]
  },
  {
   "cell_type": "code",
   "execution_count": 7,
   "id": "64b1bb34-d06b-4270-a9e3-c4b7a35e950c",
   "metadata": {},
   "outputs": [],
   "source": [
    "#code leveraged from Professor Jeremy Foote of the Community Data Science Collective\n",
    "tweet_data = []\n",
    "user_data = {}\n",
    "\n",
    "for t in tweet_list:\n",
    "    for user in t.includes['users']:\n",
    "        user_data[user.id] = {'username' : user.username,\n",
    "                             'followers' : user.public_metrics['followers_count'],\n",
    "                             'description': user.description,\n",
    "                             'location': user.location}\n",
    "        \n",
    "    for x in t.data:\n",
    "        author_data = user_data[x.author_id]\n",
    "        tweet_data.append({'author_id':x.author_id,\n",
    "                          'username': author_data['username'],\n",
    "                          'author_followers': author_data['followers'],\n",
    "                          'author_description': author_data['description'],\n",
    "                          'author_location': author_data['location'],\n",
    "                          'id':x.id,\n",
    "                           'text': x.text,\n",
    "                          'created_at':x.created_at,\n",
    "                          'retweets':x.public_metrics['retweet_count'],\n",
    "                          'replies':x.public_metrics['reply_count'],\n",
    "                           'likes':x.public_metrics['like_count'],\n",
    "                           'quotes': x.public_metrics['quote_count']\n",
    "                          })\n",
    "        \n",
    "df = pd.DataFrame(tweet_data)"
   ]
  },
  {
   "cell_type": "code",
   "execution_count": 10,
   "id": "35bad0c9-8203-464a-8535-5aee6b75cf2f",
   "metadata": {},
   "outputs": [],
   "source": [
    "df.to_csv('data/SFTweets.csv')"
   ]
  },
  {
   "cell_type": "code",
   "execution_count": null,
   "id": "ac150f2e-4ff0-496c-b0f8-ae9d5d96d4ad",
   "metadata": {},
   "outputs": [],
   "source": []
  },
  {
   "cell_type": "code",
   "execution_count": null,
   "id": "28d1695e-909c-40ff-b799-72973e34b22e",
   "metadata": {},
   "outputs": [],
   "source": []
  }
 ],
 "metadata": {
  "kernelspec": {
   "display_name": "Python 3 (ipykernel)",
   "language": "python",
   "name": "python3"
  },
  "language_info": {
   "codemirror_mode": {
    "name": "ipython",
    "version": 3
   },
   "file_extension": ".py",
   "mimetype": "text/x-python",
   "name": "python",
   "nbconvert_exporter": "python",
   "pygments_lexer": "ipython3",
   "version": "3.9.12"
  }
 },
 "nbformat": 4,
 "nbformat_minor": 5
}
